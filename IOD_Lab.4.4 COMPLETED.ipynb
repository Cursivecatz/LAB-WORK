{
 "cells": [
  {
   "cell_type": "markdown",
   "metadata": {
    "colab_type": "text",
    "id": "PjSSoIn54lF3"
   },
   "source": [
    "<div>\n",
    "<img src=https://www.institutedata.com/wp-content/uploads/2019/10/iod_h_tp_primary_c.svg width=\"300\">\n",
    "</div>"
   ]
  },
  {
   "cell_type": "markdown",
   "metadata": {
    "colab_type": "text",
    "id": "cMUkUNVk4lF4"
   },
   "source": [
    "# Lab 4.4: Regularisation"
   ]
  },
  {
   "cell_type": "code",
   "execution_count": 24,
   "metadata": {
    "colab": {},
    "colab_type": "code",
    "id": "nb0PEVFo4lF5"
   },
   "outputs": [],
   "source": [
    "## Import Libraries\n",
    "\n",
    "import numpy as np\n",
    "import pandas as pd\n",
    "\n",
    "%matplotlib inline\n",
    "import matplotlib.pyplot as plt\n",
    "import seaborn as sns\n",
    "\n",
    "from sklearn import datasets\n",
    "from sklearn.linear_model import LinearRegression\n",
    "from sklearn.linear_model import Ridge, RidgeCV\n",
    "from sklearn.linear_model import Lasso, LassoCV\n",
    "from sklearn.model_selection import train_test_split\n",
    "from sklearn.metrics import mean_squared_error\n",
    "from sklearn.model_selection import cross_val_score\n",
    "\n",
    "## Avoid some version change warnings\n",
    "import warnings\n",
    "warnings.filterwarnings('ignore', message='numpy.dtype size changed')"
   ]
  },
  {
   "cell_type": "markdown",
   "metadata": {
    "colab_type": "text",
    "id": "bsUjeA7l4lF8"
   },
   "source": [
    "### 1. Regularisation\n",
    "\n",
    "The goal of \"regularizing\" regression models is to structurally prevent overfitting by imposing a penalty on the coefficients of the model.\n",
    "\n",
    "Regularization methods like the Ridge and Lasso add this additional \"penalty\" on the size of coefficients to the loss function. When the loss function is minimized, this additional component is added to the residual sum of squares.\n",
    "\n",
    "In other words, the minimization becomes a balance between the error between predictions and true values and the size of the coefficients. \n",
    "\n",
    "The two most common types of regularization are the **Lasso**, **Ridge**. "
   ]
  },
  {
   "cell_type": "markdown",
   "metadata": {
    "colab_type": "text",
    "id": "B3Y25eb14lF8"
   },
   "source": [
    "#### 1.1 Load Diabetics Data Using datasets of sklearn\n",
    "\n",
    "Hint: Check Lab 4.3"
   ]
  },
  {
   "cell_type": "code",
   "execution_count": 25,
   "metadata": {
    "colab": {},
    "colab_type": "code",
    "id": "l_a3Jm5P4lF9"
   },
   "outputs": [],
   "source": [
    "## Load the Diabetes dataset\n",
    "data= datasets.load_diabetes()\n",
    "# Load the diabetes dataset from sklearn\n"
   ]
  },
  {
   "cell_type": "code",
   "execution_count": 26,
   "metadata": {},
   "outputs": [
    {
     "data": {
      "text/plain": [
       "dict_keys(['data', 'target', 'frame', 'DESCR', 'feature_names', 'data_filename', 'target_filename'])"
      ]
     },
     "execution_count": 26,
     "metadata": {},
     "output_type": "execute_result"
    }
   ],
   "source": [
    "data.keys()"
   ]
  },
  {
   "cell_type": "code",
   "execution_count": 27,
   "metadata": {},
   "outputs": [
    {
     "data": {
      "text/plain": [
       "array([[ 0.03807591,  0.05068012,  0.06169621, ..., -0.00259226,\n",
       "         0.01990842, -0.01764613],\n",
       "       [-0.00188202, -0.04464164, -0.05147406, ..., -0.03949338,\n",
       "        -0.06832974, -0.09220405],\n",
       "       [ 0.08529891,  0.05068012,  0.04445121, ..., -0.00259226,\n",
       "         0.00286377, -0.02593034],\n",
       "       ...,\n",
       "       [ 0.04170844,  0.05068012, -0.01590626, ..., -0.01107952,\n",
       "        -0.04687948,  0.01549073],\n",
       "       [-0.04547248, -0.04464164,  0.03906215, ...,  0.02655962,\n",
       "         0.04452837, -0.02593034],\n",
       "       [-0.04547248, -0.04464164, -0.0730303 , ..., -0.03949338,\n",
       "        -0.00421986,  0.00306441]])"
      ]
     },
     "execution_count": 27,
     "metadata": {},
     "output_type": "execute_result"
    }
   ],
   "source": [
    "data['data']"
   ]
  },
  {
   "cell_type": "code",
   "execution_count": 28,
   "metadata": {
    "colab": {},
    "colab_type": "code",
    "id": "9opzGv7n4lGA"
   },
   "outputs": [],
   "source": [
    "# Description"
   ]
  },
  {
   "cell_type": "code",
   "execution_count": 29,
   "metadata": {
    "colab": {},
    "colab_type": "code",
    "id": "h7HBX2iM4lGF"
   },
   "outputs": [
    {
     "data": {
      "text/html": [
       "<div>\n",
       "<style scoped>\n",
       "    .dataframe tbody tr th:only-of-type {\n",
       "        vertical-align: middle;\n",
       "    }\n",
       "\n",
       "    .dataframe tbody tr th {\n",
       "        vertical-align: top;\n",
       "    }\n",
       "\n",
       "    .dataframe thead th {\n",
       "        text-align: right;\n",
       "    }\n",
       "</style>\n",
       "<table border=\"1\" class=\"dataframe\">\n",
       "  <thead>\n",
       "    <tr style=\"text-align: right;\">\n",
       "      <th></th>\n",
       "      <th>age</th>\n",
       "      <th>sex</th>\n",
       "      <th>bmi</th>\n",
       "      <th>bp</th>\n",
       "      <th>s1</th>\n",
       "      <th>s2</th>\n",
       "      <th>s3</th>\n",
       "      <th>s4</th>\n",
       "      <th>s5</th>\n",
       "      <th>s6</th>\n",
       "    </tr>\n",
       "  </thead>\n",
       "  <tbody>\n",
       "    <tr>\n",
       "      <th>0</th>\n",
       "      <td>0.038076</td>\n",
       "      <td>0.050680</td>\n",
       "      <td>0.061696</td>\n",
       "      <td>0.021872</td>\n",
       "      <td>-0.044223</td>\n",
       "      <td>-0.034821</td>\n",
       "      <td>-0.043401</td>\n",
       "      <td>-0.002592</td>\n",
       "      <td>0.019908</td>\n",
       "      <td>-0.017646</td>\n",
       "    </tr>\n",
       "    <tr>\n",
       "      <th>1</th>\n",
       "      <td>-0.001882</td>\n",
       "      <td>-0.044642</td>\n",
       "      <td>-0.051474</td>\n",
       "      <td>-0.026328</td>\n",
       "      <td>-0.008449</td>\n",
       "      <td>-0.019163</td>\n",
       "      <td>0.074412</td>\n",
       "      <td>-0.039493</td>\n",
       "      <td>-0.068330</td>\n",
       "      <td>-0.092204</td>\n",
       "    </tr>\n",
       "    <tr>\n",
       "      <th>2</th>\n",
       "      <td>0.085299</td>\n",
       "      <td>0.050680</td>\n",
       "      <td>0.044451</td>\n",
       "      <td>-0.005671</td>\n",
       "      <td>-0.045599</td>\n",
       "      <td>-0.034194</td>\n",
       "      <td>-0.032356</td>\n",
       "      <td>-0.002592</td>\n",
       "      <td>0.002864</td>\n",
       "      <td>-0.025930</td>\n",
       "    </tr>\n",
       "    <tr>\n",
       "      <th>3</th>\n",
       "      <td>-0.089063</td>\n",
       "      <td>-0.044642</td>\n",
       "      <td>-0.011595</td>\n",
       "      <td>-0.036656</td>\n",
       "      <td>0.012191</td>\n",
       "      <td>0.024991</td>\n",
       "      <td>-0.036038</td>\n",
       "      <td>0.034309</td>\n",
       "      <td>0.022692</td>\n",
       "      <td>-0.009362</td>\n",
       "    </tr>\n",
       "    <tr>\n",
       "      <th>4</th>\n",
       "      <td>0.005383</td>\n",
       "      <td>-0.044642</td>\n",
       "      <td>-0.036385</td>\n",
       "      <td>0.021872</td>\n",
       "      <td>0.003935</td>\n",
       "      <td>0.015596</td>\n",
       "      <td>0.008142</td>\n",
       "      <td>-0.002592</td>\n",
       "      <td>-0.031991</td>\n",
       "      <td>-0.046641</td>\n",
       "    </tr>\n",
       "  </tbody>\n",
       "</table>\n",
       "</div>"
      ],
      "text/plain": [
       "        age       sex       bmi        bp        s1        s2        s3  \\\n",
       "0  0.038076  0.050680  0.061696  0.021872 -0.044223 -0.034821 -0.043401   \n",
       "1 -0.001882 -0.044642 -0.051474 -0.026328 -0.008449 -0.019163  0.074412   \n",
       "2  0.085299  0.050680  0.044451 -0.005671 -0.045599 -0.034194 -0.032356   \n",
       "3 -0.089063 -0.044642 -0.011595 -0.036656  0.012191  0.024991 -0.036038   \n",
       "4  0.005383 -0.044642 -0.036385  0.021872  0.003935  0.015596  0.008142   \n",
       "\n",
       "         s4        s5        s6  \n",
       "0 -0.002592  0.019908 -0.017646  \n",
       "1 -0.039493 -0.068330 -0.092204  \n",
       "2 -0.002592  0.002864 -0.025930  \n",
       "3  0.034309  0.022692 -0.009362  \n",
       "4 -0.002592 -0.031991 -0.046641  "
      ]
     },
     "execution_count": 29,
     "metadata": {},
     "output_type": "execute_result"
    }
   ],
   "source": [
    "# Predictors\n",
    "X = pd.DataFrame(data.data,columns = data.feature_names)\n",
    "X.head()"
   ]
  },
  {
   "cell_type": "code",
   "execution_count": 30,
   "metadata": {
    "colab": {},
    "colab_type": "code",
    "id": "fP2bodWd8WgK"
   },
   "outputs": [],
   "source": [
    "# Target\n",
    "y = data.target\n"
   ]
  },
  {
   "cell_type": "code",
   "execution_count": 31,
   "metadata": {},
   "outputs": [
    {
     "data": {
      "text/plain": [
       "numpy.ndarray"
      ]
     },
     "execution_count": 31,
     "metadata": {},
     "output_type": "execute_result"
    }
   ],
   "source": [
    "type(y)"
   ]
  },
  {
   "cell_type": "markdown",
   "metadata": {
    "colab_type": "text",
    "id": "7x-dMa634lGH"
   },
   "source": [
    "#### 1.2 Create a Base Model Using Linear Regression"
   ]
  },
  {
   "cell_type": "code",
   "execution_count": 32,
   "metadata": {
    "colab": {},
    "colab_type": "code",
    "id": "6JdPzqMt4lGI"
   },
   "outputs": [],
   "source": [
    "# Create Model\n",
    "lr = LinearRegression()"
   ]
  },
  {
   "cell_type": "code",
   "execution_count": 33,
   "metadata": {},
   "outputs": [],
   "source": [
    "X_train, X_test, y_train, y_test = train_test_split(X,y,test_size =0.3, random_state =1)"
   ]
  },
  {
   "cell_type": "code",
   "execution_count": 34,
   "metadata": {
    "colab": {},
    "colab_type": "code",
    "id": "dLh17wzd4lGK"
   },
   "outputs": [
    {
     "data": {
      "text/plain": [
       "LinearRegression()"
      ]
     },
     "execution_count": 34,
     "metadata": {},
     "output_type": "execute_result"
    }
   ],
   "source": [
    "# Fit\n",
    "lr.fit(X_train, y_train)"
   ]
  },
  {
   "cell_type": "code",
   "execution_count": 37,
   "metadata": {
    "colab": {},
    "colab_type": "code",
    "id": "60Su4c1c4lGO"
   },
   "outputs": [
    {
     "data": {
      "text/plain": [
       "0.43845698491295737"
      ]
     },
     "execution_count": 37,
     "metadata": {},
     "output_type": "execute_result"
    }
   ],
   "source": [
    "# Score\n",
    "from sklearn.metrics import r2_score\n",
    "lr.score(X_test,y_test) #how much of y depends on x\n"
   ]
  },
  {
   "cell_type": "code",
   "execution_count": 39,
   "metadata": {
    "colab": {},
    "colab_type": "code",
    "id": "Jo18NZ9H4lGR"
   },
   "outputs": [
    {
     "data": {
      "text/plain": [
       "array([ -13.30476433, -238.04429689,  582.20780727,  345.72234704,\n",
       "       -647.61205846,  340.89449144,   90.19356558,  217.6191519 ,\n",
       "        664.57956633,   46.12251913])"
      ]
     },
     "execution_count": 39,
     "metadata": {},
     "output_type": "execute_result"
    }
   ],
   "source": [
    "# Check Coeffiricent. The coef_ contain the coefficients for the prediction of each of the targets. It is also the same as if you trained a model to predict each of the targets separately.\n",
    "lr.coef_"
   ]
  },
  {
   "cell_type": "code",
   "execution_count": 52,
   "metadata": {},
   "outputs": [
    {
     "data": {
      "text/plain": [
       "10"
      ]
     },
     "execution_count": 52,
     "metadata": {},
     "output_type": "execute_result"
    }
   ],
   "source": [
    "len(lr.coef_) #number of coefficients/variables in the column"
   ]
  },
  {
   "cell_type": "code",
   "execution_count": 40,
   "metadata": {},
   "outputs": [
    {
     "data": {
      "text/plain": [
       "Index(['age', 'sex', 'bmi', 'bp', 's1', 's2', 's3', 's4', 's5', 's6'], dtype='object')"
      ]
     },
     "execution_count": 40,
     "metadata": {},
     "output_type": "execute_result"
    }
   ],
   "source": [
    "X.columns"
   ]
  },
  {
   "cell_type": "code",
   "execution_count": 42,
   "metadata": {
    "colab": {},
    "colab_type": "code",
    "id": "UaaRVN9H4lGX"
   },
   "outputs": [],
   "source": [
    "def view_coeff(X, model):\n",
    "    model_coefs = pd.DataFrame({'variable': X.columns,\n",
    "                                'coef': model.coef_,\n",
    "                                'abs_coef': np.abs(model.coef_)})\n",
    "    model_coefs.sort_values('abs_coef', inplace=True, ascending=False)\n",
    "    sns.barplot(x=\"variable\", y=\"coef\", data=model_coefs)"
   ]
  },
  {
   "cell_type": "code",
   "execution_count": 43,
   "metadata": {
    "colab": {},
    "colab_type": "code",
    "id": "f9ZS-3dn4lGb"
   },
   "outputs": [
    {
     "data": {
      "image/png": "[encoded data removed]",
      "text/plain": [
       "<Figure size 432x288 with 1 Axes>"
      ]
     },
     "metadata": {
      "needs_background": "light"
     },
     "output_type": "display_data"
    }
   ],
   "source": [
    "# Plot Coefficients\n",
    "view_coeff(X, lr)"
   ]
  },
  {
   "cell_type": "markdown",
   "metadata": {
    "colab_type": "text",
    "id": "ItnYcWcp4lGf"
   },
   "source": [
    "#### 1.3 Ridge\n",
    "\n",
    "##### 1.3.1 Calculate Ridge Regression model"
   ]
  },
  {
   "cell_type": "code",
   "execution_count": 47,
   "metadata": {
    "colab": {},
    "colab_type": "code",
    "id": "brac_heZ4lGf"
   },
   "outputs": [
    {
     "data": {
      "text/plain": [
       "[5340.629657524551,\n",
       " 5339.87235194331,\n",
       " 5339.002363765827,\n",
       " 5338.002946827226,\n",
       " 5336.854872763715,\n",
       " 5335.536065181765,\n",
       " 5334.0211805568515,\n",
       " 5332.281128382553,\n",
       " 5330.28252196386,\n",
       " 5327.9870502909225,\n",
       " 5325.350760094483,\n",
       " 5322.323235921047,\n",
       " 5318.846664622389,\n",
       " 5314.854769098684,\n",
       " 5310.271594576316,\n",
       " 5305.0101290421035,\n",
       " 5298.970737876877,\n",
       " 5292.039391214392,\n",
       " 5284.085661383967,\n",
       " 5274.960466853836,\n",
       " 5264.493539090608,\n",
       " 5252.490589471873,\n",
       " 5238.73015579823,\n",
       " 5222.960112281573,\n",
       " 5204.8938342197125,\n",
       " 5184.206019720739,\n",
       " 5160.528187494011,\n",
       " 5133.443893366057,\n",
       " 5102.483741398829,\n",
       " 5067.120310992568,\n",
       " 5026.763182941949,\n",
       " 4980.754329533691,\n",
       " 4928.364241929842,\n",
       " 4868.7893087828725,\n",
       " 4801.151140778168,\n",
       " 4724.498764913863,\n",
       " 4637.814898457315,\n",
       " 4540.027863917902,\n",
       " 4430.031129049521,\n",
       " 4306.712951940668,\n",
       " 4168.999174331796,\n",
       " 4015.912817577721,\n",
       " 3846.6547556745304,\n",
       " 3660.710300354846,\n",
       " 3457.9869252601866,\n",
       " 3238.988418431167,\n",
       " 3005.0302591931477,\n",
       " 2758.4996709851184,\n",
       " 2503.1612437435556,\n",
       " 2244.5048446958126,\n",
       " 1990.1263571741397,\n",
       " 1750.123333113571,\n",
       " 1537.4769192825956,\n",
       " 1368.378903986249,\n",
       " 1262.4496298053682,\n",
       " 1242.7809478550096,\n",
       " 1335.7314574946995,\n",
       " 1570.402877766327,\n",
       " 1977.7406078515492,\n",
       " 2589.2315228179405,\n",
       " 3435.2186152500326,\n",
       " 4542.912153265808,\n",
       " 5934.242675836023,\n",
       " 7623.759971839155,\n",
       " 9616.819348377145,\n",
       " 11908.298490355028,\n",
       " 14482.04743940946,\n",
       " 17311.192648172502,\n",
       " 20359.306365955043,\n",
       " 23582.335738970407,\n",
       " 26931.085714038512,\n",
       " 30353.985972535505,\n",
       " 33799.855219331075,\n",
       " 37220.405196827734,\n",
       " 40572.29075542747,\n",
       " 43818.594409266065,\n",
       " 46929.71665696408,\n",
       " 49883.71316673815,\n",
       " 52666.16872993959,\n",
       " 55269.723608839,\n",
       " 57693.37302696005,\n",
       " 59941.6501351458,\n",
       " 62023.78262456835,\n",
       " 63952.88846449752,\n",
       " 65745.25099881891,\n",
       " 67419.6904644517,\n",
       " 68997.02937883197,\n",
       " 70499.63388789467,\n",
       " 71951.00237053697,\n",
       " 73375.3665435796,\n",
       " 74797.26922614331,\n",
       " 76241.08707094632,\n",
       " 77730.47611091552,\n",
       " 79287.73267292244,\n",
       " 80933.08111443449,\n",
       " 82683.92095399364,\n",
       " 84554.08618000562,\n",
       " 86553.18485571332,\n",
       " 88686.09344599323,\n",
       " 90952.67434412762,\n",
       " 93347.76576788952,\n",
       " 95861.46244536298,\n",
       " 98479.6684125464,\n",
       " 101184.86716828738,\n",
       " 103957.02721668211,\n",
       " 106774.54876123613,\n",
       " 109615.16247315635,\n",
       " 112456.71188485596,\n",
       " 115277.78124558422,\n",
       " 118058.16271742943,\n",
       " 120779.18296238504,\n",
       " 123423.92427841495,\n",
       " 125977.37795301154,\n",
       " 128426.55953032542,\n",
       " 130760.6018394687,\n",
       " 132970.8272380742,\n",
       " 135050.7899356764,\n",
       " 136996.27476460394,\n",
       " 138805.240382377,\n",
       " 140477.7009148169,\n",
       " 142015.54798537501,\n",
       " 143422.32254415227,\n",
       " 144702.951256814,\n",
       " 145863.46472479738,\n",
       " 146910.71459390485,\n",
       " 147852.1043118438,\n",
       " 148695.34477223686,\n",
       " 149448.2421484372,\n",
       " 150118.5215028095,\n",
       " 150713.68664677822,\n",
       " 151240.9143967545,\n",
       " 151706.97982941373,\n",
       " 152118.20829217936,\n",
       " 152480.44962743192,\n",
       " 152799.07016804785,\n",
       " 153078.95841744373,\n",
       " 153324.54082502422,\n",
       " 153539.80462218128,\n",
       " 153728.32523578277,\n",
       " 153893.296308562,\n",
       " 154037.56080903902,\n",
       " 154163.6420996284,\n",
       " 154273.7741504094,\n",
       " 154369.9303423842,\n",
       " 154453.85050515493,\n",
       " 154527.06598793523,\n",
       " 154590.92267778487,\n",
       " 154646.60196237467,\n",
       " 154695.13969304744,\n",
       " 154737.44324302857,\n",
       " 154774.3067799919,\n",
       " 154806.4248855514,\n",
       " 154834.40465960672,\n",
       " 154858.776447145,\n",
       " 154880.00332088175,\n",
       " 154898.48944636632,\n",
       " 154914.5874478813,\n",
       " 154928.6048843735,\n",
       " 154940.80993528993,\n",
       " 154951.43638692,\n",
       " 154960.68800091193,\n",
       " 154968.7423381933,\n",
       " 154975.75410367336,\n",
       " 154981.8580698787,\n",
       " 154987.17163108924,\n",
       " 154991.79703358078,\n",
       " 154995.82332222146,\n",
       " 154999.32803886928,\n",
       " 155002.3787037436,\n",
       " 155005.03410714288,\n",
       " 155007.34543551743,\n",
       " 155009.35725293268,\n",
       " 155011.1083563372,\n",
       " 155012.6325207438,\n",
       " 155013.9591484033,\n",
       " 155015.11383427313,\n",
       " 155016.1188585223,\n",
       " 155016.99361544778,\n",
       " 155017.75498698413,\n",
       " 155018.4176679399,\n",
       " 155018.99444918436,\n",
       " 155019.49646420692,\n",
       " 155019.93340377774,\n",
       " 155020.3137028291,\n",
       " 155020.64470314636,\n",
       " 155020.9327949959,\n",
       " 155021.18354041417,\n",
       " 155021.4017805289,\n",
       " 155021.59172898013,\n",
       " 155021.75705323898,\n",
       " 155021.90094539156,\n",
       " 155022.02618375127,\n",
       " 155022.13518648827,\n",
       " 155022.23005830907,\n",
       " 155022.3126310868,\n",
       " 155022.3844992263,\n",
       " 155022.44705044536,\n",
       " 155022.50149256672,\n",
       " 155022.5488768375,\n",
       " 155022.59011822572]"
      ]
     },
     "execution_count": 47,
     "metadata": {},
     "output_type": "execute_result"
    }
   ],
   "source": [
    "## Calculate Ridge Regression model\n",
    "\n",
    "# create a model object to hold the modelling parameters\n",
    "clf = Ridge()\n",
    "\n",
    "# keep track of the intermediate results for coefficients and errors\n",
    "coefs = []\n",
    "errors = []\n",
    "\n",
    "# create a range of alphas to calculate. The alpha is the lambda, it is the penalty. \n",
    "ridge_alphas = np.logspace(-6, 6, 200) # The numpy.logspace() function returns number spaces evenly w.r.t interval on a log scale.\n",
    "# - 6 is starting value of the sequence\n",
    "# 6 is the final value of the sequence\n",
    "# 200 is the number of samples to generate\n",
    "\n",
    "\n",
    "# Train the model with different regularisation strengths\n",
    "for a in ridge_alphas:\n",
    "    clf.set_params(alpha = a)\n",
    "    clf.fit(X, y)\n",
    "    coefs.append(clf.coef_)\n",
    "    errors.append(mean_squared_error(clf.coef_, lr.coef_))\n",
    "errors"
   ]
  },
  {
   "cell_type": "markdown",
   "metadata": {
    "colab_type": "text",
    "id": "htKH-ZTt4lGh"
   },
   "source": [
    "##### 1.3.2 Visual Representation of Coefficient of Ridge Model"
   ]
  },
  {
   "cell_type": "code",
   "execution_count": 48,
   "metadata": {
    "colab": {},
    "colab_type": "code",
    "id": "5inpuKFY4lGi"
   },
   "outputs": [
    {
     "data": {
      "image/png": "[encoded data removed]",
      "text/plain": [
       "<Figure size 1440x432 with 2 Axes>"
      ]
     },
     "metadata": {
      "needs_background": "light"
     },
     "output_type": "display_data"
    }
   ],
   "source": [
    "# Display results\n",
    "plt.figure(figsize = (20, 6))\n",
    "\n",
    "plt.subplot(121)\n",
    "ax = plt.gca()\n",
    "ax.plot(ridge_alphas, coefs)\n",
    "ax.set_xscale('log')\n",
    "plt.xlabel('alpha')\n",
    "plt.ylabel('weights')\n",
    "plt.title('Ridge coefficients as a function of the regularisation')\n",
    "plt.axis('tight')\n",
    "\n",
    "plt.subplot(122)\n",
    "ax = plt.gca()\n",
    "ax.plot(ridge_alphas, errors)\n",
    "ax.set_xscale('log')\n",
    "plt.xlabel('alpha')\n",
    "plt.ylabel('error')\n",
    "plt.title('Coefficient error as a function of the regularisation')\n",
    "plt.axis('tight')\n",
    "\n",
    "plt.show()\n",
    "\n",
    "# ridge will increase the variance while reducing the weights of the coefficients.\n",
    "#as alpha increases, the strength of the coefficients will reduce until it is close to 0 but it doesnt reach 0 because only lasso reaches 0"
   ]
  },
  {
   "cell_type": "markdown",
   "metadata": {
    "colab_type": "text",
    "id": "wEgAME-t4lGm"
   },
   "source": [
    "##### 1.3.3. [BONUS]  Find an optimal value for Ridge regression alpha using `RidgeCV`.\n",
    "\n",
    "[Go to the documentation and read how RidgeCV works.](https://scikit-learn.org/stable/modules/generated/sklearn.linear_model.RidgeCV.html#sklearn.linear_model.RidgeCV).\n",
    "\n",
    "Note here that you will be optimizing both the alpha parameter and the l1_ratio:\n",
    "- `alpha`: strength of regularization"
   ]
  },
  {
   "cell_type": "code",
   "execution_count": 54,
   "metadata": {
    "colab": {},
    "colab_type": "code",
    "id": "hULVy1tI4lGn"
   },
   "outputs": [
    {
     "name": "stdout",
     "output_type": "stream",
     "text": [
      "Alpha: 0.06669919663030115\n",
      "Score: 0.4441078245121034\n"
     ]
    }
   ],
   "source": [
    "optimal_ridge = RidgeCV(alphas=ridge_alphas, cv=10) # cv= 10 specifies that there are 10 folds where folds means the number of groups \n",
    "optimal_ridge.fit(X, y)\n",
    "print('Alpha:', optimal_ridge.alpha_)\n",
    "print('Score:', optimal_ridge.score(X_test, y_test))"
   ]
  },
  {
   "cell_type": "code",
   "execution_count": 51,
   "metadata": {
    "colab": {},
    "colab_type": "code",
    "id": "bEO5VaL64lGr"
   },
   "outputs": [
    {
     "data": {
      "image/png": "[encoded data removed]",
      "text/plain": [
       "<Figure size 432x288 with 1 Axes>"
      ]
     },
     "metadata": {
      "needs_background": "light"
     },
     "output_type": "display_data"
    }
   ],
   "source": [
    "view_coeff(X, optimal_ridge)"
   ]
  },
  {
   "cell_type": "markdown",
   "metadata": {
    "colab_type": "text",
    "id": "i3n99c2I4lGw"
   },
   "source": [
    "#### 1.4 Lasso\n",
    "\n",
    "##### 1.4.1 Calculate Lasso Regression model"
   ]
  },
  {
   "cell_type": "code",
   "execution_count": 64,
   "metadata": {
    "colab": {},
    "colab_type": "code",
    "id": "8HxcVW3c4lGx"
   },
   "outputs": [
    {
     "data": {
      "text/plain": [
       "[155022.86699845348,\n",
       " 155022.86699845348,\n",
       " 155022.86699845348,\n",
       " 155022.86699845348,\n",
       " 155022.86699845348,\n",
       " 155022.86699845348,\n",
       " 155022.86699845348,\n",
       " 155022.86699845348,\n",
       " 155022.86699845348,\n",
       " 155022.86699845348,\n",
       " 155022.86699845348,\n",
       " 155022.86699845348,\n",
       " 155022.86699845348,\n",
       " 155022.86699845348,\n",
       " 155022.86699845348,\n",
       " 155022.86699845348,\n",
       " 155022.86699845348,\n",
       " 155022.86699845348,\n",
       " 155022.86699845348,\n",
       " 155022.86699845348,\n",
       " 155022.86699845348,\n",
       " 155022.86699845348,\n",
       " 155022.86699845348,\n",
       " 155022.86699845348,\n",
       " 155022.86699845348,\n",
       " 155022.86699845348,\n",
       " 155022.86699845348,\n",
       " 155022.86699845348,\n",
       " 155022.86699845348,\n",
       " 155022.86699845348,\n",
       " 155022.86699845348,\n",
       " 155022.86699845348,\n",
       " 155022.86699845348,\n",
       " 155022.86699845348,\n",
       " 155022.86699845348,\n",
       " 155022.86699845348,\n",
       " 155022.86699845348,\n",
       " 155022.86699845348,\n",
       " 155022.86699845348,\n",
       " 155022.86699845348,\n",
       " 155022.86699845348,\n",
       " 155022.86699845348,\n",
       " 155022.86699845348,\n",
       " 155022.86699845348,\n",
       " 155022.86699845348,\n",
       " 155022.86699845348,\n",
       " 155022.86699845348,\n",
       " 155022.86699845348,\n",
       " 155022.86699845348,\n",
       " 155022.86699845348,\n",
       " 155022.86699845348,\n",
       " 155022.86699845348,\n",
       " 155022.86699845348,\n",
       " 155022.86699845348,\n",
       " 155022.86699845348,\n",
       " 155022.86699845348,\n",
       " 155022.86699845348,\n",
       " 155022.86699845348,\n",
       " 155022.86699845348,\n",
       " 155022.86699845348,\n",
       " 155022.86699845348,\n",
       " 155022.86699845348,\n",
       " 155022.86699845348,\n",
       " 155022.86699845348,\n",
       " 155022.86699845348,\n",
       " 155022.86699845348,\n",
       " 155022.86699845348,\n",
       " 155022.86699845348,\n",
       " 155022.86699845348,\n",
       " 155022.86699845348,\n",
       " 155022.86699845348,\n",
       " 155022.86699845348,\n",
       " 155022.86699845348,\n",
       " 155022.86699845348,\n",
       " 155022.86699845348,\n",
       " 155022.86699845348,\n",
       " 155022.86699845348,\n",
       " 155022.86699845348,\n",
       " 155022.86699845348,\n",
       " 155022.86699845348,\n",
       " 155022.86699845348,\n",
       " 155022.86699845348,\n",
       " 155022.86699845348,\n",
       " 155022.86699845348,\n",
       " 155022.86699845348,\n",
       " 155022.86699845348,\n",
       " 155022.86699845348,\n",
       " 155022.86699845348,\n",
       " 155022.86699845348,\n",
       " 155022.86699845348,\n",
       " 155022.86699845348,\n",
       " 155022.86699845348,\n",
       " 155022.86699845348,\n",
       " 155022.86699845348,\n",
       " 155022.86699845348,\n",
       " 155022.86699845348,\n",
       " 155022.86699845348,\n",
       " 155022.86699845348,\n",
       " 155022.86699845348,\n",
       " 155022.86699845348,\n",
       " 155022.86699845348,\n",
       " 155022.86699845348,\n",
       " 155022.86699845348,\n",
       " 155022.86699845348,\n",
       " 155022.86699845348,\n",
       " 155022.86699845348,\n",
       " 155022.86699845348,\n",
       " 155022.86699845348,\n",
       " 155022.86699845348,\n",
       " 155022.86699845348,\n",
       " 155022.86699845348,\n",
       " 155022.86699845348,\n",
       " 155022.86699845348,\n",
       " 155022.86699845348,\n",
       " 155022.86699845348,\n",
       " 155022.86699845348,\n",
       " 155022.86699845348,\n",
       " 155022.86699845348,\n",
       " 155022.86699845348,\n",
       " 155022.86699845348,\n",
       " 155022.86699845348,\n",
       " 155022.86699845348,\n",
       " 155022.86699845348,\n",
       " 155022.86699845348,\n",
       " 155022.86699845348,\n",
       " 155022.86699845348,\n",
       " 155022.86699845348,\n",
       " 155022.86699845348,\n",
       " 155022.86699845348,\n",
       " 155022.86699845348,\n",
       " 155022.86699845348,\n",
       " 155022.86699845348,\n",
       " 155022.86699845348,\n",
       " 155022.86699845348,\n",
       " 155022.86699845348,\n",
       " 155022.86699845348,\n",
       " 155022.86699845348,\n",
       " 155022.86699845348,\n",
       " 155022.86699845348,\n",
       " 155022.86699845348,\n",
       " 155022.86699845348,\n",
       " 155022.86699845348,\n",
       " 155022.86699845348,\n",
       " 155022.86699845348,\n",
       " 155022.86699845348,\n",
       " 155022.86699845348,\n",
       " 155022.86699845348,\n",
       " 155022.86699845348,\n",
       " 155022.86699845348,\n",
       " 155022.86699845348,\n",
       " 155022.86699845348,\n",
       " 155022.86699845348,\n",
       " 155022.86699845348,\n",
       " 155022.86699845348,\n",
       " 155022.86699845348,\n",
       " 155022.86699845348,\n",
       " 155022.86699845348,\n",
       " 155022.86699845348,\n",
       " 155022.86699845348,\n",
       " 155022.86699845348,\n",
       " 155022.86699845348,\n",
       " 155022.86699845348,\n",
       " 155022.86699845348,\n",
       " 155022.86699845348,\n",
       " 155022.86699845348,\n",
       " 155022.86699845348,\n",
       " 155022.86699845348,\n",
       " 155022.86699845348,\n",
       " 155022.86699845348,\n",
       " 155022.86699845348,\n",
       " 155022.86699845348,\n",
       " 155022.86699845348,\n",
       " 155022.86699845348,\n",
       " 155022.86699845348,\n",
       " 155022.86699845348,\n",
       " 155022.86699845348,\n",
       " 155022.86699845348,\n",
       " 155022.86699845348,\n",
       " 155022.86699845348,\n",
       " 155022.86699845348,\n",
       " 155022.86699845348,\n",
       " 155022.86699845348,\n",
       " 155022.86699845348,\n",
       " 155022.86699845348,\n",
       " 155022.86699845348,\n",
       " 155022.86699845348,\n",
       " 155022.86699845348,\n",
       " 155022.86699845348,\n",
       " 155022.86699845348,\n",
       " 155022.86699845348,\n",
       " 155022.86699845348,\n",
       " 155022.86699845348,\n",
       " 155022.86699845348,\n",
       " 155022.86699845348,\n",
       " 155022.86699845348,\n",
       " 155022.86699845348,\n",
       " 155022.86699845348,\n",
       " 155022.86699845348,\n",
       " 155022.86699845348,\n",
       " 155022.86699845348]"
      ]
     },
     "execution_count": 64,
     "metadata": {},
     "output_type": "execute_result"
    }
   ],
   "source": [
    "## Calculate Lasso Regression model\n",
    "\n",
    "# create a model object to hold the modelling parameters\n",
    "lasso_reg = Lasso()\n",
    "\n",
    "# keep track of the intermediate results for coefficients and errors\n",
    "las_coefs = []\n",
    "las_errors = []\n",
    "\n",
    "\n",
    "# create a range of alphas to calculate\n",
    "lasso_alphas = np.logspace(-6,6,200)\n",
    "\n",
    "\n",
    "# Train the model with different regularisation strengths\n",
    "for b in lasso_alphas:\n",
    "    lasso_reg.set_params(alpha = b)\n",
    "    lasso_reg.fit(X, y)\n",
    "    las_coefs.append(lasso_reg.coef_)\n",
    "    las_errors.append(mean_squared_error(lasso_reg.coef_, lr.coef_))\n",
    "errors\n"
   ]
  },
  {
   "cell_type": "code",
   "execution_count": 59,
   "metadata": {},
   "outputs": [
    {
     "data": {
      "text/plain": [
       "(200, 200)"
      ]
     },
     "execution_count": 59,
     "metadata": {},
     "output_type": "execute_result"
    }
   ],
   "source": [
    "len(las_coefs) , len(lasso_alphas)"
   ]
  },
  {
   "cell_type": "markdown",
   "metadata": {
    "colab_type": "text",
    "id": "1Kd-sZk44lG2"
   },
   "source": [
    "##### 1.4.2 Visual Representation of Coefficient of Lasso Model\n",
    "\n",
    "Hint: Same as Ridge"
   ]
  },
  {
   "cell_type": "code",
   "execution_count": 65,
   "metadata": {
    "colab": {},
    "colab_type": "code",
    "id": "2bwy_O3T4lG3"
   },
   "outputs": [
    {
     "data": {
      "image/png": "[encoded data removed]",
      "text/plain": [
       "<Figure size 1440x432 with 2 Axes>"
      ]
     },
     "metadata": {
      "needs_background": "light"
     },
     "output_type": "display_data"
    }
   ],
   "source": [
    "# Display results\n",
    "\n",
    "# Display results\n",
    "plt.figure(figsize = (20, 6))\n",
    "\n",
    "plt.subplot(121)\n",
    "ax = plt.gca()\n",
    "ax.plot(lasso_alphas, las_coefs)\n",
    "ax.set_xscale('log')\n",
    "plt.xlabel('alpha')\n",
    "plt.ylabel('weights')\n",
    "plt.title('Lasso coefficients as a function of the regularisation')\n",
    "plt.axis('tight')\n",
    "\n",
    "plt.subplot(122)\n",
    "ax = plt.gca()\n",
    "ax.plot(lasso_alphas, las_errors)\n",
    "ax.set_xscale('log')\n",
    "plt.xlabel('alpha')\n",
    "plt.ylabel('error')\n",
    "plt.title('Coefficient error as a function of the regularisation')\n",
    "plt.axis('tight')\n",
    "\n",
    "plt.show()\n",
    "\n",
    "#lasso regression can hit 0 so we know which parameters/variables can be removed "
   ]
  },
  {
   "cell_type": "markdown",
   "metadata": {
    "colab_type": "text",
    "id": "6If_9fi34lG5"
   },
   "source": [
    "##### 1.4.3. [BONUS]  Find an optimal value for Lasso regression alpha using `LassoCV`.\n",
    "\n",
    "[Go to the documentation and read how LassoCV works.](https://scikit-learn.org/stable/modules/generated/sklearn.linear_model.LassoCV.html#sklearn.linear_model.LassoCV).\n",
    "\n",
    "Note here that you will be optimizing both the alpha parameter and the l1_ratio:\n",
    "- `alpha`: strength of regularization"
   ]
  },
  {
   "cell_type": "code",
   "execution_count": 66,
   "metadata": {
    "colab": {},
    "colab_type": "code",
    "id": "hh4jQbVu4lG6"
   },
   "outputs": [
    {
     "name": "stdout",
     "output_type": "stream",
     "text": [
      "Alpha: 0.05805225516094896\n",
      "Score: 0.44231713558733765\n"
     ]
    }
   ],
   "source": [
    "# Find Optimal Lasso Using LassoCV\n",
    "optimal_lasso = LassoCV(alphas=lasso_alphas, cv=10) # cv= 10 specifies that there are 10 folds where folds means the number of groups \n",
    "optimal_lasso.fit(X, y)\n",
    "print('Alpha:', optimal_lasso.alpha_)\n",
    "print('Score:', optimal_lasso.score(X_test, y_test))"
   ]
  },
  {
   "cell_type": "code",
   "execution_count": 67,
   "metadata": {
    "colab": {},
    "colab_type": "code",
    "id": "qhuvpHTS4lG9"
   },
   "outputs": [
    {
     "data": {
      "image/png": "[encoded data removed]",
      "text/plain": [
       "<Figure size 432x288 with 1 Axes>"
      ]
     },
     "metadata": {
      "needs_background": "light"
     },
     "output_type": "display_data"
    }
   ],
   "source": [
    "# Plot Coefficient\n",
    "view_coeff(X, optimal_lasso)"
   ]
  },
  {
   "cell_type": "code",
   "execution_count": null,
   "metadata": {},
   "outputs": [],
   "source": [
    "#Linear regression score= 0.43845698491295737\n",
    "#ridge regression score = 0.4441078245121034\n",
    "#lasso regression score = 0.44231713558733765"
   ]
  },
  {
   "cell_type": "markdown",
   "metadata": {
    "colab_type": "text",
    "id": "oVeIekHA4lHA"
   },
   "source": [
    "### 2. [Bonus] Compare the residuals for the Ridge and Lasso visually.\n",
    "\n",
    "Find and create sctterplot for both Ridge and Lasso residuals."
   ]
  },
  {
   "cell_type": "code",
   "execution_count": 71,
   "metadata": {
    "colab": {},
    "colab_type": "code",
    "id": "-P0fZRb54lHA"
   },
   "outputs": [
    {
     "data": {
      "image/png": "[encoded data removed]",
      "text/plain": [
       "<Figure size 432x288 with 1 Axes>"
      ]
     },
     "metadata": {
      "needs_background": "light"
     },
     "output_type": "display_data"
    }
   ],
   "source": [
    "# Build the ridge and lasso using optimal alpha\n",
    "\n",
    "df = pd.DataFrame([[optimal_lasso.alpha_, optimal_ridge.alpha_]], columns = ['lasso_alpha','ridge_alpha'])\n",
    "\n",
    "ax1 = df.plot.scatter(x='lasso_alpha', y='ridge_alpha')\n",
    "\n",
    "# Need to fit the Lasso and Ridge outside of cross_val_score like we did with the ridge"
   ]
  },
  {
   "cell_type": "code",
   "execution_count": null,
   "metadata": {
    "colab": {},
    "colab_type": "code",
    "id": "LcROHvHV4lHD"
   },
   "outputs": [],
   "source": [
    "# model residuals:"
   ]
  },
  {
   "cell_type": "code",
   "execution_count": null,
   "metadata": {
    "colab": {},
    "colab_type": "code",
    "id": "vqhxfvmn4lHF"
   },
   "outputs": [],
   "source": [
    "# Jointplot"
   ]
  },
  {
   "cell_type": "markdown",
   "metadata": {
    "colab_type": "text",
    "id": "tZmscGZVlnXZ"
   },
   "source": [
    "\n",
    "\n",
    "---\n",
    "\n",
    "\n",
    "\n",
    "---\n",
    "\n",
    "\n",
    "\n",
    "> > > > > > > > > © 2021 Institute of Data\n",
    "\n",
    "\n",
    "---\n",
    "\n",
    "\n",
    "\n",
    "---\n",
    "\n",
    "\n",
    "\n"
   ]
  }
 ],
 "metadata": {
  "colab": {
   "collapsed_sections": [],
   "name": "DSIA Lab.4.4.ipynb",
   "provenance": []
  },
  "kernelspec": {
   "display_name": "Python 3",
   "language": "python",
   "name": "python3"
  },
  "language_info": {
   "codemirror_mode": {
    "name": "ipython",
    "version": 3
   },
   "file_extension": ".py",
   "mimetype": "text/x-python",
   "name": "python",
   "nbconvert_exporter": "python",
   "pygments_lexer": "ipython3",
   "version": "3.8.5"
  }
 },
 "nbformat": 4,
 "nbformat_minor": 1
}
