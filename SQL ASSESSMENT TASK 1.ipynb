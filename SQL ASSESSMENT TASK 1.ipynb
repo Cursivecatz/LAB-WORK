{
 "cells": [
  {
   "cell_type": "markdown",
   "metadata": {},
   "source": [
    "POSTGRESQL\n",
    "\n",
    "You are given two tables, phonees and calls. \n",
    "\n",
    "Eaach row of the tabe phones contains information about a client: name(name) and phone number (phone_number). Each client has only 1 phone number.\n",
    "Each row of the table calls contains information about a single call, phone number of the caller, phone number of the callee and duration of the call in minutes.\n",
    "Write an SQL query that finds all clients who talked for at least 5 minutes in total. "
   ]
  },
  {
   "cell_type": "code",
   "execution_count": 41,
   "metadata": {},
   "outputs": [
    {
     "data": {
      "text/plain": [
       "'C:\\\\Users\\\\Para Raja Singham\\\\Documents\\\\DATA INSTITUTE\\\\SQL ASSESSMENT'"
      ]
     },
     "execution_count": 41,
     "metadata": {},
     "output_type": "execute_result"
    }
   ],
   "source": [
    "import pandas as pd\n",
    "import sqlite3\n",
    "from pandas.io import sql # reads sql statement and selects data from database\n",
    "\n",
    "import os # find the pathway faster\n",
    "os.getcwd()"
   ]
  },
  {
   "cell_type": "code",
   "execution_count": 42,
   "metadata": {},
   "outputs": [
    {
     "data": {
      "text/html": [
       "<div>\n",
       "<style scoped>\n",
       "    .dataframe tbody tr th:only-of-type {\n",
       "        vertical-align: middle;\n",
       "    }\n",
       "\n",
       "    .dataframe tbody tr th {\n",
       "        vertical-align: top;\n",
       "    }\n",
       "\n",
       "    .dataframe thead th {\n",
       "        text-align: right;\n",
       "    }\n",
       "</style>\n",
       "<table border=\"1\" class=\"dataframe\">\n",
       "  <thead>\n",
       "    <tr style=\"text-align: right;\">\n",
       "      <th></th>\n",
       "      <th>ID</th>\n",
       "      <th>CALLER</th>\n",
       "      <th>CALLEE</th>\n",
       "      <th>DURATION</th>\n",
       "    </tr>\n",
       "  </thead>\n",
       "  <tbody>\n",
       "    <tr>\n",
       "      <th>0</th>\n",
       "      <td>25</td>\n",
       "      <td>1234</td>\n",
       "      <td>7582</td>\n",
       "      <td>8</td>\n",
       "    </tr>\n",
       "    <tr>\n",
       "      <th>1</th>\n",
       "      <td>7</td>\n",
       "      <td>9999</td>\n",
       "      <td>7582</td>\n",
       "      <td>1</td>\n",
       "    </tr>\n",
       "    <tr>\n",
       "      <th>2</th>\n",
       "      <td>18</td>\n",
       "      <td>9999</td>\n",
       "      <td>3333</td>\n",
       "      <td>4</td>\n",
       "    </tr>\n",
       "    <tr>\n",
       "      <th>3</th>\n",
       "      <td>2</td>\n",
       "      <td>7582</td>\n",
       "      <td>3333</td>\n",
       "      <td>3</td>\n",
       "    </tr>\n",
       "    <tr>\n",
       "      <th>4</th>\n",
       "      <td>3</td>\n",
       "      <td>3333</td>\n",
       "      <td>1234</td>\n",
       "      <td>1</td>\n",
       "    </tr>\n",
       "    <tr>\n",
       "      <th>5</th>\n",
       "      <td>21</td>\n",
       "      <td>3333</td>\n",
       "      <td>1234</td>\n",
       "      <td>1</td>\n",
       "    </tr>\n",
       "  </tbody>\n",
       "</table>\n",
       "</div>"
      ],
      "text/plain": [
       "   ID  CALLER  CALLEE  DURATION\n",
       "0  25    1234    7582         8\n",
       "1   7    9999    7582         1\n",
       "2  18    9999    3333         4\n",
       "3   2    7582    3333         3\n",
       "4   3    3333    1234         1\n",
       "5  21    3333    1234         1"
      ]
     },
     "execution_count": 42,
     "metadata": {},
     "output_type": "execute_result"
    }
   ],
   "source": [
    "phone_table = pd.read_csv(\"PHONES - PHONES.csv\") # import csv files and use tab to make it easier\n",
    "phone_table\n",
    "call_table = pd.read_csv(\"CALLS - CALLS.csv\")\n",
    "call_table"
   ]
  },
  {
   "cell_type": "code",
   "execution_count": 43,
   "metadata": {},
   "outputs": [
    {
     "data": {
      "text/html": [
       "<div>\n",
       "<style scoped>\n",
       "    .dataframe tbody tr th:only-of-type {\n",
       "        vertical-align: middle;\n",
       "    }\n",
       "\n",
       "    .dataframe tbody tr th {\n",
       "        vertical-align: top;\n",
       "    }\n",
       "\n",
       "    .dataframe thead th {\n",
       "        text-align: right;\n",
       "    }\n",
       "</style>\n",
       "<table border=\"1\" class=\"dataframe\">\n",
       "  <thead>\n",
       "    <tr style=\"text-align: right;\">\n",
       "      <th></th>\n",
       "      <th>Name</th>\n",
       "      <th>Phone_Number</th>\n",
       "    </tr>\n",
       "  </thead>\n",
       "  <tbody>\n",
       "    <tr>\n",
       "      <th>0</th>\n",
       "      <td>Jack</td>\n",
       "      <td>1234</td>\n",
       "    </tr>\n",
       "    <tr>\n",
       "      <th>1</th>\n",
       "      <td>Lena</td>\n",
       "      <td>3333</td>\n",
       "    </tr>\n",
       "    <tr>\n",
       "      <th>2</th>\n",
       "      <td>Mark</td>\n",
       "      <td>9999</td>\n",
       "    </tr>\n",
       "    <tr>\n",
       "      <th>3</th>\n",
       "      <td>Anna</td>\n",
       "      <td>7582</td>\n",
       "    </tr>\n",
       "  </tbody>\n",
       "</table>\n",
       "</div>"
      ],
      "text/plain": [
       "   Name  Phone_Number\n",
       "0  Jack          1234\n",
       "1  Lena          3333\n",
       "2  Mark          9999\n",
       "3  Anna          7582"
      ]
     },
     "execution_count": 43,
     "metadata": {},
     "output_type": "execute_result"
    }
   ],
   "source": [
    "phone_table.head()"
   ]
  },
  {
   "cell_type": "code",
   "execution_count": 44,
   "metadata": {},
   "outputs": [],
   "source": [
    "db_sql = sqlite3.connect('sql_assessment.db.sqlite') #creating empty sql database\n",
    "\n",
    "phone_table.to_sql('PHONE', con = db_sql, if_exists = 'replace', index = False) #we are converting the dataframe into a sql database, con means connecting to the dataframe and replacing it, index means dropping 1,2,3 etc. first column\n",
    "call_table.to_sql('CALL', con = db_sql, if_exists = 'replace', index = False) # when we run this, a database is created in the folder\n",
    "\n",
    "\n"
   ]
  },
  {
   "cell_type": "code",
   "execution_count": 45,
   "metadata": {},
   "outputs": [
    {
     "data": {
      "text/html": [
       "<div>\n",
       "<style scoped>\n",
       "    .dataframe tbody tr th:only-of-type {\n",
       "        vertical-align: middle;\n",
       "    }\n",
       "\n",
       "    .dataframe tbody tr th {\n",
       "        vertical-align: top;\n",
       "    }\n",
       "\n",
       "    .dataframe thead th {\n",
       "        text-align: right;\n",
       "    }\n",
       "</style>\n",
       "<table border=\"1\" class=\"dataframe\">\n",
       "  <thead>\n",
       "    <tr style=\"text-align: right;\">\n",
       "      <th></th>\n",
       "      <th>Name</th>\n",
       "      <th>OVERALL_DURATION</th>\n",
       "    </tr>\n",
       "  </thead>\n",
       "  <tbody>\n",
       "    <tr>\n",
       "      <th>0</th>\n",
       "      <td>Anna</td>\n",
       "      <td>12</td>\n",
       "    </tr>\n",
       "    <tr>\n",
       "      <th>1</th>\n",
       "      <td>Jack</td>\n",
       "      <td>10</td>\n",
       "    </tr>\n",
       "    <tr>\n",
       "      <th>2</th>\n",
       "      <td>Lena</td>\n",
       "      <td>9</td>\n",
       "    </tr>\n",
       "  </tbody>\n",
       "</table>\n",
       "</div>"
      ],
      "text/plain": [
       "   Name  OVERALL_DURATION\n",
       "0  Anna                12\n",
       "1  Jack                10\n",
       "2  Lena                 9"
      ]
     },
     "execution_count": 45,
     "metadata": {},
     "output_type": "execute_result"
    }
   ],
   "source": [
    "query = \"\"\" \n",
    "        SELECT NAME, SUM (TOTAL_DURATION_CALLEE + TOTAL_DURATION_CALLER) AS OVERALL_DURATION\n",
    "        FROM PHONE\n",
    "        INNER JOIN \n",
    "\n",
    "(SELECT CALLER, CALLEE, TOTAL_DURATION_CALLEE,TOTAL_DURATION_CALLER    \n",
    "        \n",
    "FROM               (SELECT CALLEE, SUM(DURATION) AS TOTAL_DURATION_CALLEE\n",
    "                   FROM CALL\n",
    "                   GROUP BY CALLEE\n",
    "                   ORDER BY CALLEE\n",
    "                   ) p\n",
    "        \n",
    "JOIN               (SELECT CALLER, SUM(DURATION) AS TOTAL_DURATION_CALLER\n",
    "                   FROM CALL\n",
    "                   GROUP BY CALLER\n",
    "                   ORDER BY CALLER\n",
    "                   ) q\n",
    "        \n",
    "ON  p.CALLEE = q.CALLER) z   \n",
    "\n",
    "ON PHONE.Phone_Number = z.CALLER\n",
    "GROUP BY NAME \n",
    "HAVING OVERALL_DURATION > 5\n",
    "\n",
    "        \"\"\"\n",
    "ONLY_CALL = sql.read_sql(query, con=db_sql)\n",
    "ONLY_CALL\n",
    "# the triple quotes is a multiple line string # CREATE CALLER AND CALLEE DURATION. THEN ADD THE DURATION TGT. LEFT JOIN ON ADDED TABLE TO PUT THE NAMES TO RANK NAMES IN DURATION. "
   ]
  }
 ],
 "metadata": {
  "kernelspec": {
   "display_name": "Python 3",
   "language": "python",
   "name": "python3"
  },
  "language_info": {
   "codemirror_mode": {
    "name": "ipython",
    "version": 3
   },
   "file_extension": ".py",
   "mimetype": "text/x-python",
   "name": "python",
   "nbconvert_exporter": "python",
   "pygments_lexer": "ipython3",
   "version": "3.8.5"
  }
 },
 "nbformat": 4,
 "nbformat_minor": 4
}
