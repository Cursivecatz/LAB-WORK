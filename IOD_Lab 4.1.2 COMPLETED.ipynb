{
 "cells": [
  {
   "cell_type": "markdown",
   "metadata": {
    "colab_type": "text",
    "id": "fpsJ8d42XWua"
   },
   "source": [
    "<div>\n",
    "<img src=https://www.institutedata.com/wp-content/uploads/2019/10/iod_h_tp_primary_c.svg width=\"300\">\n",
    "</div>"
   ]
  },
  {
   "cell_type": "markdown",
   "metadata": {
    "colab_type": "text",
    "id": "CSHa05-1XWub"
   },
   "source": [
    "# Lab 4.1.2 Linear Regression"
   ]
  },
  {
   "cell_type": "markdown",
   "metadata": {
    "colab_type": "text",
    "id": "lZ0RQEDgXWuc"
   },
   "source": [
    "## Prediction of House Price Using Linear Regression"
   ]
  },
  {
   "cell_type": "markdown",
   "metadata": {
    "colab_type": "text",
    "id": "96_GqGXCXWud"
   },
   "source": [
    "### Data\n",
    "\n",
    "The Sacramento real estate transactions file is a list of 985 real estate transactions in the Sacramento area reported over a five-day period, as reported by the Sacramento Bee."
   ]
  },
  {
   "cell_type": "code",
   "execution_count": null,
   "metadata": {
    "colab": {},
    "colab_type": "code",
    "id": "l1leeqkAXWug"
   },
   "outputs": [],
   "source": [
    "import pandas as pd\n",
    "import numpy as np\n",
    "import pandas as pd\n",
    "\n",
    "%matplotlib inline"
   ]
  },
  {
   "cell_type": "markdown",
   "metadata": {
    "colab_type": "text",
    "id": "S0zFU75NXWuj"
   },
   "source": [
    "### 1. Explore Data"
   ]
  },
  {
   "cell_type": "markdown",
   "metadata": {
    "colab_type": "text",
    "id": "kaShnXBCXWuk"
   },
   "source": [
    "Perform EDA on this dataset. Find Dependent and Independent Variables to predict house price."
   ]
  },
  {
   "cell_type": "code",
   "execution_count": 9,
   "metadata": {
    "colab": {},
    "colab_type": "code",
    "id": "oj3kd7vqXWul"
   },
   "outputs": [
    {
     "data": {
      "text/html": [
       "<div>\n",
       "<style scoped>\n",
       "    .dataframe tbody tr th:only-of-type {\n",
       "        vertical-align: middle;\n",
       "    }\n",
       "\n",
       "    .dataframe tbody tr th {\n",
       "        vertical-align: top;\n",
       "    }\n",
       "\n",
       "    .dataframe thead th {\n",
       "        text-align: right;\n",
       "    }\n",
       "</style>\n",
       "<table border=\"1\" class=\"dataframe\">\n",
       "  <thead>\n",
       "    <tr style=\"text-align: right;\">\n",
       "      <th></th>\n",
       "      <th>street</th>\n",
       "      <th>city</th>\n",
       "      <th>zip</th>\n",
       "      <th>state</th>\n",
       "      <th>beds</th>\n",
       "      <th>baths</th>\n",
       "      <th>sq__ft</th>\n",
       "      <th>type</th>\n",
       "      <th>sale_date</th>\n",
       "      <th>price</th>\n",
       "      <th>latitude</th>\n",
       "      <th>longitude</th>\n",
       "    </tr>\n",
       "  </thead>\n",
       "  <tbody>\n",
       "    <tr>\n",
       "      <th>0</th>\n",
       "      <td>3526 HIGH ST</td>\n",
       "      <td>SACRAMENTO</td>\n",
       "      <td>95838</td>\n",
       "      <td>CA</td>\n",
       "      <td>2</td>\n",
       "      <td>1</td>\n",
       "      <td>836</td>\n",
       "      <td>Residential</td>\n",
       "      <td>Wed May 21 00:00:00 EDT 2008</td>\n",
       "      <td>59222</td>\n",
       "      <td>38.631913</td>\n",
       "      <td>-121.434879</td>\n",
       "    </tr>\n",
       "    <tr>\n",
       "      <th>1</th>\n",
       "      <td>51 OMAHA CT</td>\n",
       "      <td>SACRAMENTO</td>\n",
       "      <td>95823</td>\n",
       "      <td>CA</td>\n",
       "      <td>3</td>\n",
       "      <td>1</td>\n",
       "      <td>1167</td>\n",
       "      <td>Residential</td>\n",
       "      <td>Wed May 21 00:00:00 EDT 2008</td>\n",
       "      <td>68212</td>\n",
       "      <td>38.478902</td>\n",
       "      <td>-121.431028</td>\n",
       "    </tr>\n",
       "    <tr>\n",
       "      <th>2</th>\n",
       "      <td>2796 BRANCH ST</td>\n",
       "      <td>SACRAMENTO</td>\n",
       "      <td>95815</td>\n",
       "      <td>CA</td>\n",
       "      <td>2</td>\n",
       "      <td>1</td>\n",
       "      <td>796</td>\n",
       "      <td>Residential</td>\n",
       "      <td>Wed May 21 00:00:00 EDT 2008</td>\n",
       "      <td>68880</td>\n",
       "      <td>38.618305</td>\n",
       "      <td>-121.443839</td>\n",
       "    </tr>\n",
       "    <tr>\n",
       "      <th>3</th>\n",
       "      <td>2805 JANETTE WAY</td>\n",
       "      <td>SACRAMENTO</td>\n",
       "      <td>95815</td>\n",
       "      <td>CA</td>\n",
       "      <td>2</td>\n",
       "      <td>1</td>\n",
       "      <td>852</td>\n",
       "      <td>Residential</td>\n",
       "      <td>Wed May 21 00:00:00 EDT 2008</td>\n",
       "      <td>69307</td>\n",
       "      <td>38.616835</td>\n",
       "      <td>-121.439146</td>\n",
       "    </tr>\n",
       "    <tr>\n",
       "      <th>4</th>\n",
       "      <td>6001 MCMAHON DR</td>\n",
       "      <td>SACRAMENTO</td>\n",
       "      <td>95824</td>\n",
       "      <td>CA</td>\n",
       "      <td>2</td>\n",
       "      <td>1</td>\n",
       "      <td>797</td>\n",
       "      <td>Residential</td>\n",
       "      <td>Wed May 21 00:00:00 EDT 2008</td>\n",
       "      <td>81900</td>\n",
       "      <td>38.519470</td>\n",
       "      <td>-121.435768</td>\n",
       "    </tr>\n",
       "  </tbody>\n",
       "</table>\n",
       "</div>"
      ],
      "text/plain": [
       "             street        city    zip state  beds  baths  sq__ft  \\\n",
       "0      3526 HIGH ST  SACRAMENTO  95838    CA     2      1     836   \n",
       "1       51 OMAHA CT  SACRAMENTO  95823    CA     3      1    1167   \n",
       "2    2796 BRANCH ST  SACRAMENTO  95815    CA     2      1     796   \n",
       "3  2805 JANETTE WAY  SACRAMENTO  95815    CA     2      1     852   \n",
       "4   6001 MCMAHON DR  SACRAMENTO  95824    CA     2      1     797   \n",
       "\n",
       "          type                     sale_date  price   latitude   longitude  \n",
       "0  Residential  Wed May 21 00:00:00 EDT 2008  59222  38.631913 -121.434879  \n",
       "1  Residential  Wed May 21 00:00:00 EDT 2008  68212  38.478902 -121.431028  \n",
       "2  Residential  Wed May 21 00:00:00 EDT 2008  68880  38.618305 -121.443839  \n",
       "3  Residential  Wed May 21 00:00:00 EDT 2008  69307  38.616835 -121.439146  \n",
       "4  Residential  Wed May 21 00:00:00 EDT 2008  81900  38.519470 -121.435768  "
      ]
     },
     "execution_count": 9,
     "metadata": {},
     "output_type": "execute_result"
    }
   ],
   "source": [
    "# Read CSV\n",
    "house_csv = pd.read_csv(\"Sacramento_transactions.csv\")\n",
    "house_csv.head()"
   ]
  },
  {
   "cell_type": "markdown",
   "metadata": {
    "colab_type": "text",
    "id": "kQ_sd0-VXWuo"
   },
   "source": [
    "### 2. Predict Price"
   ]
  },
  {
   "cell_type": "markdown",
   "metadata": {
    "colab_type": "text",
    "id": "BsxIS3qqXWuq"
   },
   "source": [
    "We are going to predict `price` from available information."
   ]
  },
  {
   "cell_type": "markdown",
   "metadata": {
    "colab_type": "text",
    "id": "l9DkEfzHXWur"
   },
   "source": [
    "#### 2.1 What is the Target Variable? Why?"
   ]
  },
  {
   "cell_type": "code",
   "execution_count": 10,
   "metadata": {
    "colab": {},
    "colab_type": "code",
    "id": "HGONOtfFXWut"
   },
   "outputs": [],
   "source": [
    "# ANSWER\n",
    "\n",
    "#The target variable is price because we are trying to find out the prices in of houses in the area."
   ]
  },
  {
   "cell_type": "markdown",
   "metadata": {
    "colab_type": "text",
    "id": "MDAu8eeXXWuz"
   },
   "source": [
    "#### 2.2 List all possible variables which might be Independent/Predictor variable."
   ]
  },
  {
   "cell_type": "code",
   "execution_count": 11,
   "metadata": {
    "colab": {},
    "colab_type": "code",
    "id": "PEDRGP1EXWu1"
   },
   "outputs": [],
   "source": [
    "# ANSWER\n",
    "#Independent variables = Street, number of beds, number of baths"
   ]
  },
  {
   "cell_type": "markdown",
   "metadata": {
    "colab_type": "text",
    "id": "w9x9iKhcXWu4"
   },
   "source": [
    "#### 2.3 Find correlation between variables\n",
    "\n",
    "Find correlation between variables. Which is the best predictor? Why? State your reason."
   ]
  },
  {
   "cell_type": "code",
   "execution_count": 12,
   "metadata": {
    "colab": {},
    "colab_type": "code",
    "id": "5OZ6kJeyXWu5"
   },
   "outputs": [
    {
     "data": {
      "text/html": [
       "<div>\n",
       "<style scoped>\n",
       "    .dataframe tbody tr th:only-of-type {\n",
       "        vertical-align: middle;\n",
       "    }\n",
       "\n",
       "    .dataframe tbody tr th {\n",
       "        vertical-align: top;\n",
       "    }\n",
       "\n",
       "    .dataframe thead th {\n",
       "        text-align: right;\n",
       "    }\n",
       "</style>\n",
       "<table border=\"1\" class=\"dataframe\">\n",
       "  <thead>\n",
       "    <tr style=\"text-align: right;\">\n",
       "      <th></th>\n",
       "      <th>zip</th>\n",
       "      <th>beds</th>\n",
       "      <th>baths</th>\n",
       "      <th>sq__ft</th>\n",
       "      <th>price</th>\n",
       "      <th>latitude</th>\n",
       "      <th>longitude</th>\n",
       "    </tr>\n",
       "  </thead>\n",
       "  <tbody>\n",
       "    <tr>\n",
       "      <th>zip</th>\n",
       "      <td>1.000000</td>\n",
       "      <td>0.125319</td>\n",
       "      <td>0.069165</td>\n",
       "      <td>0.130108</td>\n",
       "      <td>-0.093353</td>\n",
       "      <td>-0.290389</td>\n",
       "      <td>-0.539904</td>\n",
       "    </tr>\n",
       "    <tr>\n",
       "      <th>beds</th>\n",
       "      <td>0.125319</td>\n",
       "      <td>1.000000</td>\n",
       "      <td>0.839650</td>\n",
       "      <td>0.684041</td>\n",
       "      <td>0.342024</td>\n",
       "      <td>-0.291307</td>\n",
       "      <td>-0.053993</td>\n",
       "    </tr>\n",
       "    <tr>\n",
       "      <th>baths</th>\n",
       "      <td>0.069165</td>\n",
       "      <td>0.839650</td>\n",
       "      <td>1.000000</td>\n",
       "      <td>0.665690</td>\n",
       "      <td>0.416208</td>\n",
       "      <td>-0.235792</td>\n",
       "      <td>0.016582</td>\n",
       "    </tr>\n",
       "    <tr>\n",
       "      <th>sq__ft</th>\n",
       "      <td>0.130108</td>\n",
       "      <td>0.684041</td>\n",
       "      <td>0.665690</td>\n",
       "      <td>1.000000</td>\n",
       "      <td>0.333897</td>\n",
       "      <td>-0.383274</td>\n",
       "      <td>-0.177742</td>\n",
       "    </tr>\n",
       "    <tr>\n",
       "      <th>price</th>\n",
       "      <td>-0.093353</td>\n",
       "      <td>0.342024</td>\n",
       "      <td>0.416208</td>\n",
       "      <td>0.333897</td>\n",
       "      <td>1.000000</td>\n",
       "      <td>-0.039573</td>\n",
       "      <td>0.284485</td>\n",
       "    </tr>\n",
       "    <tr>\n",
       "      <th>latitude</th>\n",
       "      <td>-0.290389</td>\n",
       "      <td>-0.291307</td>\n",
       "      <td>-0.235792</td>\n",
       "      <td>-0.383274</td>\n",
       "      <td>-0.039573</td>\n",
       "      <td>1.000000</td>\n",
       "      <td>0.387925</td>\n",
       "    </tr>\n",
       "    <tr>\n",
       "      <th>longitude</th>\n",
       "      <td>-0.539904</td>\n",
       "      <td>-0.053993</td>\n",
       "      <td>0.016582</td>\n",
       "      <td>-0.177742</td>\n",
       "      <td>0.284485</td>\n",
       "      <td>0.387925</td>\n",
       "      <td>1.000000</td>\n",
       "    </tr>\n",
       "  </tbody>\n",
       "</table>\n",
       "</div>"
      ],
      "text/plain": [
       "                zip      beds     baths    sq__ft     price  latitude  \\\n",
       "zip        1.000000  0.125319  0.069165  0.130108 -0.093353 -0.290389   \n",
       "beds       0.125319  1.000000  0.839650  0.684041  0.342024 -0.291307   \n",
       "baths      0.069165  0.839650  1.000000  0.665690  0.416208 -0.235792   \n",
       "sq__ft     0.130108  0.684041  0.665690  1.000000  0.333897 -0.383274   \n",
       "price     -0.093353  0.342024  0.416208  0.333897  1.000000 -0.039573   \n",
       "latitude  -0.290389 -0.291307 -0.235792 -0.383274 -0.039573  1.000000   \n",
       "longitude -0.539904 -0.053993  0.016582 -0.177742  0.284485  0.387925   \n",
       "\n",
       "           longitude  \n",
       "zip        -0.539904  \n",
       "beds       -0.053993  \n",
       "baths       0.016582  \n",
       "sq__ft     -0.177742  \n",
       "price       0.284485  \n",
       "latitude    0.387925  \n",
       "longitude   1.000000  "
      ]
     },
     "execution_count": 12,
     "metadata": {},
     "output_type": "execute_result"
    }
   ],
   "source": [
    "# ANSWER\n",
    "house_csv.corr()\n",
    "# the correlation between price and number of beds and number of baths \n"
   ]
  },
  {
   "cell_type": "markdown",
   "metadata": {
    "colab_type": "text",
    "id": "tgWfh5snXWu8"
   },
   "source": [
    "#### 2.4 Find Coefficient and Intercept using Linear Regression\n",
    "\n",
    "Using LinearRegression of sklearn.linear_model package find Coefficient and Intercept.\n",
    "\n",
    "Create an instance of LinearRegression.\n",
    "\n",
    "Explore following methods:\n",
    "\n",
    "- fit\n",
    "- predict\n",
    "- score"
   ]
  },
  {
   "cell_type": "code",
   "execution_count": 13,
   "metadata": {
    "colab": {},
    "colab_type": "code",
    "id": "SbiQavKvXWu9"
   },
   "outputs": [],
   "source": [
    "from sklearn.linear_model import LinearRegression"
   ]
  },
  {
   "cell_type": "markdown",
   "metadata": {
    "colab_type": "text",
    "id": "lVWhSV7BXWu_"
   },
   "source": [
    "##### 2.4.1 Fit predictor and target variables using linear regression "
   ]
  },
  {
   "cell_type": "code",
   "execution_count": 14,
   "metadata": {
    "colab": {},
    "colab_type": "code",
    "id": "6cplIG9RXWvA"
   },
   "outputs": [],
   "source": [
    "# ANSWER\n",
    "\n",
    "X = house_csv['sq__ft'].values.reshape(-1,1) #when call fit function on linear regression, thex expects a dataframe and it has to be 2 dimensional. it reshapes the columns/panda series to a 2d dataframe. the -1 is to tell the function to infer the value. like saying, idk how many rows but i know i want 1 column. and the 1 is the width of the rows. reshape it to (985,1) array\n",
    "Y = house_csv['price']\n",
    "\n",
    "\n"
   ]
  },
  {
   "cell_type": "code",
   "execution_count": 18,
   "metadata": {},
   "outputs": [
    {
     "data": {
      "text/plain": [
       "0       836\n",
       "1      1167\n",
       "2       796\n",
       "3       852\n",
       "4       797\n",
       "       ... \n",
       "980    2280\n",
       "981    1477\n",
       "982    1216\n",
       "983    1685\n",
       "984    1362\n",
       "Name: sq__ft, Length: 985, dtype: int64"
      ]
     },
     "execution_count": 18,
     "metadata": {},
     "output_type": "execute_result"
    }
   ],
   "source": [
    "house_csv['sq__ft']"
   ]
  },
  {
   "cell_type": "code",
   "execution_count": 20,
   "metadata": {},
   "outputs": [
    {
     "data": {
      "text/plain": [
       "array([ 836, 1167,  796,  852,  797, 1122, 1104, 1177,  941, 1146,  909,\n",
       "       1289,  871, 1020, 1022, 1134,  844,  795,  588, 1356, 1118, 1329,\n",
       "       1240, 1601,  901, 1088,  963, 1119, 1380, 1248, 1039, 1152, 1380,\n",
       "       1116, 1039, 1418, 1082, 1472, 1146,  760, 1304, 1207, 1056, 1043,\n",
       "       1587, 1120, 1580, 1955, 1656, 1477, 1188, 1590, 1463, 1714, 1185,\n",
       "       1406, 1943, 1172, 1152, 1851, 1215, 1130, 1603, 1479, 1420, 1280,\n",
       "       1586, 1362, 2162, 1266, 1715, 1820,  936,    0, 1511, 1590, 1596,\n",
       "       1341, 2136, 1616, 1478, 1287, 1277, 1448, 2235, 2093, 1193, 2163,\n",
       "       1269,    0,  958, 2508, 1305, 1591, 1326, 1843, 1921, 2790, 1541,\n",
       "       1018,    0, 1672, 1380,  975, 2372, 1446, 1284, 3009, 3612, 2056,\n",
       "       1993, 1857, 1126, 2213, 2494, 1843, 1520, 2800, 2309, 2367, 3516,\n",
       "          0, 1914, 1690, 2725, 2354,    0, 2185, 1801, 1961, 3134, 1915,\n",
       "          0,    0, 2734, 2110, 3164, 3599, 2054, 1830, 1627, 3440, 2846,\n",
       "       2359, 2052, 3433, 3615,    0, 2687, 2724, 3440, 3508, 2462,    0,\n",
       "          0,    0, 2325,    0,  795, 1099,  840,  800,  746, 1067, 1316,\n",
       "       1337,  868,  924,  610,    0, 1220,  722, 1643,  722, 1080, 1039,\n",
       "       1051,  967, 1098, 1050, 1110,  888, 1120, 1080,  957,  952, 1211,\n",
       "       1264, 1080, 1266,  994, 1202,    0,  722, 1448, 1188, 1183, 1320,\n",
       "       1117, 1364, 1310, 1006, 1104,  810, 1123,  904, 1156, 1321, 1392,\n",
       "       1439, 1159, 1671, 1740, 1265, 1007, 1716, 1685, 1829, 1555, 1120,\n",
       "       1137, 1174, 1393,    0,    0, 1289, 1799,    0, 1953,  723,    0,\n",
       "        948, 1578, 1317,    0, 1360,    0, 1522, 1751, 1465, 1605, 1475,\n",
       "       1216, 1315, 1567, 1776, 2187, 1291,    0,    0, 1503, 2491, 1269,\n",
       "          0, 1176, 1456, 1498, 1574, 2085, 2170, 1595, 1567,    0, 1253,\n",
       "       1768,    0, 2030, 1531,    0, 1653, 2056, 2494, 1450, 2169, 1440,\n",
       "       1527, 1401, 1411,    0,    0, 1284, 2307, 1329, 1910, 1981,    0,\n",
       "          0,    0, 2205, 1449, 1258, 2575,  539, 2208, 1108, 1595, 2159,\n",
       "       2295, 1838, 1900, 1718, 3389,    0, 3260, 2016, 2607, 2724, 3746,\n",
       "          0, 3192,    0,    0,    0, 1247, 2581, 2068,    0, 3992, 3397,\n",
       "       3881,    0, 1598, 1929, 3070,    0,    0,    0,    0, 3984, 2222,\n",
       "       3838,    0, 2846, 2484, 1624,  840,  484,  970,  623,  932,  796,\n",
       "        834,  834,  924,  795, 1250,  984, 1013, 1012,  795,  918, 1082,\n",
       "        964, 1404,  625,  888, 1120, 1331, 1014, 1448,  966,  779,  836,\n",
       "       1100, 1174, 1207, 1995,  804,  958, 1366,  901,  696, 1080, 1104,\n",
       "        972, 1390, 1354,  795,  780, 1587, 1209, 1139, 1690, 1245, 1416,\n",
       "       1300, 1120, 1590, 1407, 1516,    0, 1646, 1676, 1370, 1370, 1351,\n",
       "       1152, 1452,  990, 1162, 1182, 1112, 1100, 1280, 1280, 1039, 1159,\n",
       "       1917, 1520, 1204, 1120, 1436, 1451, 1638, 1000, 1152, 1154, 1353,\n",
       "       1329, 1356, 1505, 1009, 1144,  930, 1766, 1940, 1776, 1258, 1872,\n",
       "       1112, 1856, 1939,  998, 1758, 2142,  950, 1739, 1516,  988, 1555,\n",
       "       1212, 1871, 1302,  756, 2026, 1375, 1250, 1058, 1187, 1324, 1936,\n",
       "       2382, 1427, 1678, 1798, 2652, 1816, 3076, 1844, 1306, 2447, 1176,\n",
       "       1182, 1160, 1424, 1574, 1830, 1724, 1255,    0, 2175, 1904, 1808,\n",
       "       2711, 1713, 1457, 2724,    0, 1468, 2550, 1928, 1922, 1343, 1510,\n",
       "        960, 1559, 1624, 2992, 2109, 1524, 1248, 1876,    0, 1851,    0,\n",
       "       2218, 1394, 1410, 3468, 2346, 2347, 1659, 2442,    0, 2155,    0,\n",
       "       1810, 2789, 1606,    0, 2166,    0, 1871, 1800, 1683,    0,    0,\n",
       "       1596,    0, 1179,    0, 1639, 3281, 1697,    0, 2085,    0, 1744,\n",
       "          0, 1939,    0, 1788, 1691, 2002, 4303, 4246, 2274,    0, 3056,\n",
       "       2503,    0,    0, 1905, 1320,    0,    0, 3037, 3741, 2660, 3357,\n",
       "       2896, 2025, 3788, 3670,    0,    0,    0,    0,    0,    0,    0,\n",
       "          0,    0,    0,    0,    0,    0,    0,    0,    0,    0,    0,\n",
       "          0,    0,    0,    0,    0,    0,    0,    0,    0,    0,    0,\n",
       "          0,    0,    0,    0,    0,    0,    0,    0,    0,    0,    0,\n",
       "          0,    0,    0,    0,    0,    0,    0,    0,    0, 1166,    0,\n",
       "        838,  904, 1032,  904, 1080,  990,  900,  861,  906, 1011, 1089,\n",
       "        832,  800, 1292,  810, 1064,  911,  846, 1320, 1410, 1115, 1169,\n",
       "       1164, 1341, 1219, 1127, 1272, 1253, 1120, 1118, 1890, 1260, 1400,\n",
       "       1264, 1060, 1132, 1466, 1092, 1628,  960, 1075, 1428, 1358, 2475,\n",
       "       1410, 1711, 1483, 1140, 1549, 1410, 1240, 1712, 1580, 1669, 1029,\n",
       "       1103, 2161, 1650, 1320, 1200, 1170, 1199, 1695, 1157, 1410, 1174,\n",
       "       1593, 1093, 1770, 1436, 1124, 1139, 1638, 1328, 1273, 1082, 1578,\n",
       "        796, 1386, 1452, 1513,    0, 1578, 1736,    0, 1473, 1150, 1127,\n",
       "       1144,  972, 2306, 1479, 1040, 1430, 1800, 1953, 1120, 1232,  984,\n",
       "          0, 2329, 1351,    0, 1376, 1300, 1566, 1115, 1032, 1419, 1261,\n",
       "       1637, 1776, 1338,    0, 2254, 1441, 1991, 2126, 1094, 1462, 2258,\n",
       "       1074, 2111, 1686, 1915, 2367, 1962, 1406, 1789, 1876, 1235, 2504,\n",
       "          0, 1676, 1367, 1899, 1636, 1828,    0, 1438, 1451, 1520, 1506,\n",
       "       2605, 1196, 1621, 1811, 1540,    0,    0,    0,    0,    0, 1543,\n",
       "       2494, 1650, 2214, 2280, 1443, 1582, 1857, 1735, 2096, 1720, 2160,\n",
       "       1382,    0, 1721, 1328,    0, 1982, 1144, 1623, 1457, 2555, 1577,\n",
       "       2592, 1401,    0, 1502, 1327, 1800, 2169, 2457,    0, 2004, 2212,\n",
       "       3134, 1360,    0, 1276, 2962, 1888,    0,    0, 1548,    0, 2109,\n",
       "       2484, 2258, 2212, 1616, 2372, 2606,    0, 2877, 2960,    0, 2172,\n",
       "       2100, 1795,    0, 2295, 2577,    0, 1727, 1485, 1655,    0,    0,\n",
       "       2049,    0, 2875,    0, 2199,    0, 1304, 2334, 2278, 1493,    0,\n",
       "          0,    0, 2787, 2824, 3261, 2053, 2379,    0,    0,    0,    0,\n",
       "          0,    0, 3173,    0, 1348,    0, 1252, 3229, 3863,    0,    0,\n",
       "       2356,    0, 3579,    0,    0,    0, 4400,    0, 5822, 1512,  611,\n",
       "        876,  933,  864, 1011, 1158, 1092,  956, 1139, 1058, 1040, 1354,\n",
       "       1051,  682, 1161, 1004, 1229, 1249, 1161, 1010,    0, 1462, 1269,\n",
       "       1188, 1570, 1093,  962, 1089, 1127, 1309,  970, 1144, 1000,    0,\n",
       "       1206, 1285, 1543,  884, 1019, 1392,  924, 1217, 1670, 1302, 1488,\n",
       "       1373, 1381, 1265,  881,    0, 1608, 1344, 1202, 1104,    0, 1859,\n",
       "       1232, 1638, 1177, 1582,  904, 1340, 1204, 1477, 1497,  960,    0,\n",
       "       1428, 1039, 1529, 1892, 1887, 1294, 1638, 1677, 1073, 1231, 1175,\n",
       "       1416,    0, 1358, 1609, 1968, 1089, 1296, 1189,  795, 1371, 1310,\n",
       "       1262, 1740, 1517, 1450, 1416,  888, 1882, 1302, 1418,    0, 1319,\n",
       "       1770, 1627,    0, 1040,  960,    0, 1456, 1450, 1358, 1329, 1715,\n",
       "       1262, 2280, 1477, 1216, 1685, 1362], dtype=int64)"
      ]
     },
     "execution_count": 20,
     "metadata": {},
     "output_type": "execute_result"
    }
   ],
   "source": [
    "house_csv['sq__ft'].values"
   ]
  },
  {
   "cell_type": "code",
   "execution_count": 21,
   "metadata": {},
   "outputs": [
    {
     "data": {
      "text/plain": [
       "pandas.core.frame.DataFrame"
      ]
     },
     "execution_count": 21,
     "metadata": {},
     "output_type": "execute_result"
    }
   ],
   "source": [
    "x = house_csv[['sq__ft']]\n",
    "type(house_csv[['sq__ft']])"
   ]
  },
  {
   "cell_type": "code",
   "execution_count": 22,
   "metadata": {},
   "outputs": [
    {
     "data": {
      "text/plain": [
       "LinearRegression(n_jobs=1)"
      ]
     },
     "execution_count": 22,
     "metadata": {},
     "output_type": "execute_result"
    }
   ],
   "source": [
    "lm =LinearRegression(n_jobs=1) #n_jobs to make the processing faster. linearRegression here is a blank model and we put the inputs in later. its a generic model but there are other types of linearregression. the capitalisation in linearregression indicates whether we are working with a model object. \n",
    "lm.fit(X,Y)"
   ]
  },
  {
   "cell_type": "markdown",
   "metadata": {
    "colab_type": "text",
    "id": "0Qv0pyZNXWvC"
   },
   "source": [
    "##### 2.4.2 Find R Score"
   ]
  },
  {
   "cell_type": "markdown",
   "metadata": {
    "colab_type": "text",
    "id": "j5Lix6tlXWvD"
   },
   "source": [
    "Find $R^2$ Using ```score``` method of Linear Regression."
   ]
  },
  {
   "cell_type": "code",
   "execution_count": 23,
   "metadata": {
    "colab": {},
    "colab_type": "code",
    "id": "JrJDTlJrXWvF"
   },
   "outputs": [
    {
     "data": {
      "text/plain": [
       "0.11148717682951437"
      ]
     },
     "execution_count": 23,
     "metadata": {},
     "output_type": "execute_result"
    }
   ],
   "source": [
    "# ANSWER\n",
    "from sklearn.metrics import r2_score\n",
    "lm.score(X,Y)"
   ]
  },
  {
   "cell_type": "code",
   "execution_count": 24,
   "metadata": {},
   "outputs": [
    {
     "data": {
      "text/plain": [
       "0.11148717682951437"
      ]
     },
     "execution_count": 24,
     "metadata": {},
     "output_type": "execute_result"
    }
   ],
   "source": [
    "y_pred = lm.predict(X)\n",
    "r2_score(Y,y_pred)"
   ]
  },
  {
   "cell_type": "markdown",
   "metadata": {
    "colab_type": "text",
    "id": "BiVDrqFhXWvN"
   },
   "source": [
    "### 3. Splitting Data"
   ]
  },
  {
   "cell_type": "code",
   "execution_count": 25,
   "metadata": {
    "colab": {},
    "colab_type": "code",
    "id": "I4tgG88GXWvQ"
   },
   "outputs": [],
   "source": [
    "from sklearn.model_selection import train_test_split"
   ]
  },
  {
   "cell_type": "markdown",
   "metadata": {
    "colab_type": "text",
    "id": "hTgSdUpwXWvW"
   },
   "source": [
    "#### 3.1 Create training and testing subsets\n",
    "\n",
    "Hint: Using `train_test_split` Library.\n",
    "\n",
    "```\n",
    "X_train, X_test, y_train, y_test = train_test_split(X, y, test_size=0.33, random_state=42)\n",
    "```"
   ]
  },
  {
   "cell_type": "code",
   "execution_count": 26,
   "metadata": {
    "colab": {},
    "colab_type": "code",
    "id": "iYSlAV_gXWvX"
   },
   "outputs": [],
   "source": [
    "# ANSWER\n",
    "## Create training and testing subsets\n",
    "X_train, X_test, y_train, y_test = train_test_split(X, Y, test_size=0.33, random_state=42)"
   ]
  },
  {
   "cell_type": "markdown",
   "metadata": {
    "colab_type": "text",
    "id": "P62hTi0IXWva"
   },
   "source": [
    "#### 3.2 Check Shape, Sample of Test Train Data"
   ]
  },
  {
   "cell_type": "code",
   "execution_count": 27,
   "metadata": {
    "colab": {},
    "colab_type": "code",
    "id": "larfqlLQXWvb"
   },
   "outputs": [
    {
     "data": {
      "text/plain": [
       "(985, 1)"
      ]
     },
     "execution_count": 27,
     "metadata": {},
     "output_type": "execute_result"
    }
   ],
   "source": [
    "# ANSWER\n",
    "## Check training/test data\n",
    "X.shape"
   ]
  },
  {
   "cell_type": "markdown",
   "metadata": {
    "colab_type": "text",
    "id": "FhemsdjyXWvd"
   },
   "source": [
    "#### 3.3 Using Linear Regression Find The Score\n",
    "\n",
    "1. Fit model using X_train, y_train\n",
    "2. Find score using X_test, y_test"
   ]
  },
  {
   "cell_type": "code",
   "execution_count": 28,
   "metadata": {
    "colab": {},
    "colab_type": "code",
    "id": "yqNCjOW3XWve"
   },
   "outputs": [
    {
     "data": {
      "text/plain": [
       "LinearRegression(n_jobs=1)"
      ]
     },
     "execution_count": 28,
     "metadata": {},
     "output_type": "execute_result"
    }
   ],
   "source": [
    "# ANSWER\n",
    "lm.fit(X_train,y_train)"
   ]
  },
  {
   "cell_type": "code",
   "execution_count": 29,
   "metadata": {
    "colab": {},
    "colab_type": "code",
    "id": "rT5Qvx_pXWvi"
   },
   "outputs": [],
   "source": [
    "# ANSWER\n",
    "r_sq = lm.score(X_test,y_test) #output is r square which measures that 13% of increase in square feet can be attributed to the increase in price."
   ]
  },
  {
   "cell_type": "markdown",
   "metadata": {
    "colab_type": "text",
    "id": "wSAtgNXXXWvk"
   },
   "source": [
    "### 4. Predict House Price\n",
    "\n",
    "Let's assume we have information of following house:\n",
    "\n",
    "- street:\t1140 EDMONTON DR\n",
    "- city:\tSACRAMENTO\n",
    "- zip:\t95833\n",
    "- state:\tCA\n",
    "- beds:\t3\n",
    "- baths:\t2\n",
    "- sq__ft:\t1204\n",
    "- type:\tResidential\n",
    "\n",
    "**Predict the price of this house using linear regression model.**"
   ]
  },
  {
   "cell_type": "code",
   "execution_count": 35,
   "metadata": {
    "colab": {},
    "colab_type": "code",
    "id": "zwMk_GoVXWvk"
   },
   "outputs": [
    {
     "data": {
      "text/plain": [
       "(array([47.43508406]), 166482.34144968857)"
      ]
     },
     "execution_count": 35,
     "metadata": {},
     "output_type": "execute_result"
    }
   ],
   "source": [
    "# ANSWER\n",
    "lm.coef_,lm.intercept_"
   ]
  },
  {
   "cell_type": "code",
   "execution_count": 36,
   "metadata": {},
   "outputs": [
    {
     "data": {
      "text/plain": [
       "223594.18265792856"
      ]
     },
     "execution_count": 36,
     "metadata": {},
     "output_type": "execute_result"
    }
   ],
   "source": [
    "z= 47.43508406\n",
    "p= 166482.34144968857\n",
    "predicted_price = z * 1204 + p\n",
    "predicted_price"
   ]
  },
  {
   "cell_type": "markdown",
   "metadata": {},
   "source": [
    "#### Find the error"
   ]
  },
  {
   "cell_type": "code",
   "execution_count": 33,
   "metadata": {},
   "outputs": [
    {
     "data": {
      "text/plain": [
       "array([209458.52761247, 279472.71169224, 259549.97638499, 248971.95263852,\n",
       "       238915.71481676, 166482.34144969, 166482.34144969, 256609.00117297,\n",
       "       166482.34144969, 166482.34144969, 217807.10240789, 166482.34144969,\n",
       "       220558.33728366, 166482.34144969, 219040.41459358, 241714.38477659,\n",
       "       204193.23328127, 204240.66836534, 166482.34144969, 309214.50940092,\n",
       "       253288.54528842, 231088.92594606, 277195.82765713, 226487.72279177,\n",
       "       222171.13014186, 243516.91797106, 258506.40453556, 218660.93392106,\n",
       "       242188.73561724, 253668.02596094, 226677.46312803, 254284.68205379,\n",
       "       237872.14296734, 238678.53939644, 166482.34144969, 222171.13014186,\n",
       "       206138.07172793, 242425.91103757, 215767.3937931 , 166482.34144969,\n",
       "       262775.5621014 , 195417.74272927, 166482.34144969, 275915.08038737,\n",
       "       254284.68205379, 243706.65830732, 233365.80998117, 287441.80581514,\n",
       "       227388.989389  , 367891.70838918, 235595.25893222, 225681.32636266,\n",
       "       239674.6761618 , 255470.55915541, 166482.34144969, 218803.23917325,\n",
       "       219941.68119081, 223973.66333633, 220748.07761991, 166482.34144969,\n",
       "       316566.94743098, 202533.005339  , 235168.34317564, 240813.11817936,\n",
       "       268894.68794577, 208604.6960993 , 239010.58498489, 247833.51062096,\n",
       "       229286.39275159, 223499.31249568, 206043.2015598 , 166482.34144969,\n",
       "       204193.23328127, 271503.61756934, 233650.42048556, 166482.34144969,\n",
       "       225871.06669892, 236638.83078165, 269511.34403861, 231183.79611419,\n",
       "       166482.34144969, 166482.34144969, 215435.34820465, 209363.65744434,\n",
       "       257605.13793833, 235263.21334377, 242283.60578537, 256846.17659329,\n",
       "       166482.34144969, 166482.34144969, 333264.09702182, 223072.39673909,\n",
       "       166482.34144969, 343936.99093642, 215814.82887717, 166482.34144969,\n",
       "       261447.37974758, 221364.73371276, 166482.34144969, 218139.14799635,\n",
       "       214391.77635522, 315143.89490903, 222266.00030999, 224210.83875665,\n",
       "       218850.67425732, 166482.34144969, 211877.71689978, 166482.34144969,\n",
       "       166482.34144969, 274634.33311762, 322116.85226657, 233176.06964491,\n",
       "       238583.66922831, 227721.03497745, 208035.47509053, 242141.30053318,\n",
       "       210881.58013442, 225301.84569014, 241761.81986066, 226487.72279177,\n",
       "       240243.89717058, 227768.47006152, 166482.34144969, 212589.24316075,\n",
       "       166482.34144969, 166482.34144969, 278998.36085159, 288912.29342115,\n",
       "       247880.94570503, 229476.13308785, 256134.65033232, 222408.30556219,\n",
       "       231468.40661858, 269416.47387048, 222313.43539406, 284311.09026686,\n",
       "       241145.16376781, 224115.96858852, 244228.44423203, 166482.34144969,\n",
       "       278761.18543127, 166482.34144969, 166482.34144969, 209221.35219215,\n",
       "       277812.48374997, 226155.67720331, 219467.33035016, 290145.60560684,\n",
       "       295695.51044243, 261020.463991  , 222787.7862347 , 248260.42637755,\n",
       "       312108.04952888, 223404.44232755, 230994.05577793, 266096.01798594,\n",
       "       290098.17052277, 238583.66922831, 205948.33139167, 203434.27193623,\n",
       "       221459.60388089, 337201.2089992 , 240433.63750684, 346166.43988747,\n",
       "       166482.34144969, 166482.34144969, 325721.9186555 , 292659.66506228,\n",
       "       217712.23223976, 229618.43834005, 166482.34144969, 212020.02215198,\n",
       "       301482.59069835, 267803.68101228, 225681.32636266, 166482.34144969,\n",
       "       240813.11817936, 231705.5820389 , 219514.76543423, 229903.04884444,\n",
       "       166482.34144969, 166482.34144969, 228242.82090217, 227199.24905274,\n",
       "       329659.03063289, 213822.55534644, 220510.90219959, 248829.64738633,\n",
       "       247691.20536877, 210739.27488222, 166482.34144969, 166482.34144969,\n",
       "       192049.85176066, 234741.42741906, 252339.84360713, 236543.96061352,\n",
       "       229950.4839285 , 255755.1696598 , 274634.33311762, 243516.91797106,\n",
       "       235832.43435255, 258458.9694515 , 226013.37195112, 226345.41753957,\n",
       "       211450.8011432 , 166482.34144969, 219419.8952661 , 221127.55829243,\n",
       "       285259.79194816, 166482.34144969, 327619.3220181 , 271693.3579056 ,\n",
       "       212020.02215198, 317895.1297848 , 166482.34144969, 244133.5740639 ,\n",
       "       264008.87428709, 234599.12216686, 230092.7891807 , 217807.10240789,\n",
       "       254664.16272631, 227056.94380054, 227199.24905274, 166482.34144969,\n",
       "       206232.94189606, 246647.63351934, 285212.35686409, 166482.34144969,\n",
       "       204240.66836534, 245793.80200617, 199497.15995885, 222550.61081438,\n",
       "       246078.41251056, 232511.97846801, 224780.05976543, 219704.50577049,\n",
       "       222692.91606657, 344174.16635674, 166482.34144969, 306890.19028174,\n",
       "       216668.66039033, 298826.22599071, 166482.34144969, 219751.94085455,\n",
       "       246315.58793089, 230092.7891807 , 224874.92993356, 249209.12805884,\n",
       "       204193.23328127, 319650.2278952 , 218091.71291228, 272499.7543347 ,\n",
       "       209600.83286467, 240955.42343155, 232037.62762736, 209695.7030328 ,\n",
       "       223736.487916  , 239532.37090961, 276009.9505555 , 210027.74862125,\n",
       "       237777.27279921, 276958.6522368 , 227863.34022965, 222598.04589845,\n",
       "       166482.34144969, 227531.29464119, 238441.36397612, 312392.66003327,\n",
       "       209173.91710808, 235974.73960474, 233413.24506524, 245746.36692211,\n",
       "       231753.01712297, 278239.39950655, 233792.72573776, 166482.34144969,\n",
       "       279330.40644005, 233365.80998117, 229428.69800379, 230187.65934883,\n",
       "       226250.54737144, 213158.46416953, 258316.6641993 , 166482.34144969,\n",
       "       212209.76248824, 222313.43539406, 166482.34144969, 370595.50818088,\n",
       "       220748.07761991, 166482.34144969, 223831.35808413, 265906.27764968,\n",
       "       166482.34144969, 350577.9027055 , 166482.34144969, 230235.09443289,\n",
       "       213443.07467392, 246979.6791078 , 166482.34144969, 245177.14591333,\n",
       "       254521.85747411, 246410.45809902, 259123.06062841, 241524.64444033,\n",
       "       220510.90219959, 249019.38772259, 243137.43729854, 293940.41233203,\n",
       "       166482.34144969, 166482.34144969, 274349.72261323, 166482.34144969,\n",
       "       235547.82384816, 166482.34144969, 166482.34144969, 229096.65241533,\n",
       "       166482.34144969, 166482.34144969, 210596.96963003, 206138.07172793,\n",
       "       166482.34144969, 215814.82887717, 256039.78016419, 355463.71636418,\n",
       "       265384.49172497, 215814.82887717])"
      ]
     },
     "execution_count": 33,
     "metadata": {},
     "output_type": "execute_result"
    }
   ],
   "source": [
    "# Predict price from X_test\n",
    "y_pred = lm.predict(X_test) # i am doing this to pass X into the model to get the response\n",
    "y_pred"
   ]
  },
  {
   "cell_type": "markdown",
   "metadata": {
    "colab_type": "text",
    "id": "fRx7LEfql5pu"
   },
   "source": [
    "\n",
    "\n",
    "---\n",
    "\n",
    "\n",
    "\n",
    "---\n",
    "\n",
    "\n",
    "\n",
    "> > > > > > > > > © 2021 Institute of Data\n",
    "\n",
    "\n",
    "---\n",
    "\n",
    "\n",
    "\n",
    "---\n",
    "\n",
    "\n",
    "\n"
   ]
  }
 ],
 "metadata": {
  "colab": {
   "collapsed_sections": [],
   "name": "DSIA Lab 4.1.2.ipynb",
   "provenance": []
  },
  "kernelspec": {
   "display_name": "Python 3",
   "language": "python",
   "name": "python3"
  },
  "language_info": {
   "codemirror_mode": {
    "name": "ipython",
    "version": 3
   },
   "file_extension": ".py",
   "mimetype": "text/x-python",
   "name": "python",
   "nbconvert_exporter": "python",
   "pygments_lexer": "ipython3",
   "version": "3.8.3"
  }
 },
 "nbformat": 4,
 "nbformat_minor": 1
}
